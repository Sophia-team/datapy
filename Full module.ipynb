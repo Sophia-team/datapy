{
 "cells": [
  {
   "cell_type": "code",
   "execution_count": null,
   "metadata": {},
   "outputs": [],
   "source": [
    "%run -i datapy/analyze/classes.py\n",
    "%run -i datapy/analyze/descriptives.py\n",
    "%run -i datapy/analyze/recomendation.py\n",
    "%run -i datapy/analyze/server.py"
   ]
  },
  {
   "cell_type": "code",
   "execution_count": null,
   "metadata": {},
   "outputs": [],
   "source": [
    "igor_path='C:\\\\Users\\\\Admin\\\\Desktop\\\\strategy_result.csv'\n",
    "igor_path='C:\\\\temp\\\\strategy_full.csv'\n",
    "anton_path='C:\\\\Users\\\\Anton\\\\repository\\\\datapy\\\\data\\\\strategy_full.csv'\n",
    "path=anton_path"
   ]
  },
  {
   "cell_type": "code",
   "execution_count": null,
   "metadata": {},
   "outputs": [],
   "source": [
    "%run -i datapy/analyze/server.py\n",
    "s=server()\n",
    "s.setfile(path,delimiter=';', decimal=',',encoding='1251')"
   ]
  },
  {
   "cell_type": "markdown",
   "metadata": {},
   "source": [
    "## Определение ролей"
   ]
  },
  {
   "cell_type": "code",
   "execution_count": null,
   "metadata": {
    "scrolled": true
   },
   "outputs": [],
   "source": [
    "# начальное\n",
    "types_and_roles, missing= s.PredictTypesAndRoles()\n",
    "missing"
   ]
  },
  {
   "cell_type": "code",
   "execution_count": null,
   "metadata": {
    "scrolled": true
   },
   "outputs": [],
   "source": [
    "for i in range(len(types_and_roles)):\n",
    "    print(i, types_and_roles[i].name, types_and_roles[i].type, types_and_roles[i].role)"
   ]
  },
  {
   "cell_type": "code",
   "execution_count": null,
   "metadata": {},
   "outputs": [],
   "source": [
    "#Пользовательская корректировка\n",
    "\n",
    "types_and_roles[0].role = VariableRoleEnum.ID\n",
    "types_and_roles[1].role = VariableRoleEnum.DATE\n",
    "for i in range(2, 21):\n",
    "    types_and_roles[i].role = VariableRoleEnum.REJECTED\n",
    "for i in range(22, 35):\n",
    "    types_and_roles[i].role = VariableRoleEnum.FIXED_RULE\n",
    "for i in range(35, 39):\n",
    "    types_and_roles[i].role = VariableRoleEnum.HISTORICAL_RULE\n",
    "for i in range(39, 41):\n",
    "    types_and_roles[i].role = VariableRoleEnum.POTENCIAL_RULE\n",
    "\n",
    "\n",
    "types_and_roles[21].role = VariableRoleEnum.TARGET\n",
    "types_and_roles[20].role = VariableRoleEnum.NEW_CREDIT\n",
    "types_and_roles[41].role = VariableRoleEnum.APPROVED\n",
    "types_and_roles[42].role = VariableRoleEnum.NTU\n",
    "types_and_roles[43].role = VariableRoleEnum.CREDITED\n",
    "\n",
    "for i in range(44,len(types_and_roles)): \n",
    "    types_and_roles[i].role = VariableRoleEnum.REJECTED\n",
    "\n",
    "for i in range(51,len(types_and_roles)): \n",
    "    types_and_roles[i].role = VariableRoleEnum.VALUE_COLUMN\n",
    "\n",
    "types_and_roles_edited=types_and_roles\n",
    "data_desctiption, data_desctiption_m, one_factor, unique_factor, time, ch_rules, p_rule = s.AnalyseMarkedData(types_and_roles_edited)\n",
    "#вывод таблицы с расчетным временем\n",
    "time"
   ]
  },
  {
   "cell_type": "code",
   "execution_count": null,
   "metadata": {},
   "outputs": [],
   "source": [
    "#вывод таблицы со статистикой\n",
    "data_desctiption"
   ]
  },
  {
   "cell_type": "code",
   "execution_count": null,
   "metadata": {
    "scrolled": true
   },
   "outputs": [],
   "source": [
    "#вывод таблицы со статистикой\n",
    "data_desctiption_m"
   ]
  },
  {
   "cell_type": "code",
   "execution_count": null,
   "metadata": {
    "scrolled": true
   },
   "outputs": [],
   "source": [
    "#вывод таблицы с однофакторным анализом\n",
    "one_factor"
   ]
  },
  {
   "cell_type": "code",
   "execution_count": null,
   "metadata": {
    "scrolled": true
   },
   "outputs": [],
   "source": [
    "#вывод таблицы с анализом уникальных отказов\n",
    "unique_factor"
   ]
  },
  {
   "cell_type": "markdown",
   "metadata": {},
   "source": [
    "# Пользователь выбирает параметры\n",
    "после этого должен быть шаг выбора параметров:\n",
    "опция 1: максимальный возможный уровень одобрения, при уровне риска не выше X% (уровень риска по одобренным или уровень риска по выданным - в зависимости от того, предоставлено ли поле NTU)\n",
    "опция 2: минимальный уровень риска, при уровне одобрения не ниже Y%"
   ]
  },
  {
   "cell_type": "code",
   "execution_count": null,
   "metadata": {},
   "outputs": [],
   "source": [
    "#поиск всех возможных комбинаций\n",
    "found_combinations =s.FindCombinations()"
   ]
  },
  {
   "cell_type": "code",
   "execution_count": null,
   "metadata": {},
   "outputs": [],
   "source": [
    "#поиск комбинаций по параметрам\n",
    "# 1: максимальный возможный уровень одобрения, при уровне риска не выше X% (уровень риска по одобренным\n",
    "param_max_dr=15\n",
    "optimized_by_dr=s.OptimezeRulesDR(param_max_dr)\n",
    "dr = pd.DataFrame(optimized_by_dr)\n",
    "\n",
    "# 2: минимальный уровень риска, при уровне одобрения не ниже Y%\n",
    "param_min_ar=10\n",
    "optimized_by_ar=s.OptimezeRulesAR(param_min_ar)\n",
    "ar = pd.DataFrame(optimized_by_ar)"
   ]
  },
  {
   "cell_type": "code",
   "execution_count": null,
   "metadata": {
    "scrolled": true
   },
   "outputs": [],
   "source": [
    "dr"
   ]
  },
  {
   "cell_type": "markdown",
   "metadata": {},
   "source": [
    "# Пользователь вводит своё собственное правило"
   ]
  },
  {
   "cell_type": "code",
   "execution_count": null,
   "metadata": {},
   "outputs": [],
   "source": [
    "users_combination=['r_limit_loanamount', 'r_limit_loanburden', 'r_verification', 'r_security']\n",
    "user_combs=s.FindUsersCombination(users_combination)"
   ]
  },
  {
   "cell_type": "code",
   "execution_count": null,
   "metadata": {},
   "outputs": [],
   "source": [
    "user_combs.head(1)"
   ]
  },
  {
   "cell_type": "markdown",
   "metadata": {},
   "source": [
    "# Поиск однофакторных правил"
   ]
  },
  {
   "cell_type": "code",
   "execution_count": null,
   "metadata": {},
   "outputs": [],
   "source": [
    "# метод для визуализации найденных правил\n",
    "def RuleToText(rule):\n",
    "    column_name=rule[0]\n",
    "    thr=rule[1]\n",
    "    trend=rule[2]\n",
    "    dr_delta=rule[3]\n",
    "    if trend is None:\n",
    "        return \"Для поля {} не было найдено подходящих правил\".format(column_name)\n",
    "    elif trend:\n",
    "        return \"Рекомендуется ограничить выдачи по тем заявкам, где {} выше {}. Что позволит снизить DR на {}%\".format(column_name, thr, round(dr_delta*100,2))\n",
    "    else:\n",
    "        return \"Рекомендуется ограничить выдачи по тем заявкам, где {} ниже {}. Что позволит снизить DR на {}%\".format(column_name, thr, round(dr_delta*100,2))"
   ]
  },
  {
   "cell_type": "code",
   "execution_count": null,
   "metadata": {},
   "outputs": [],
   "source": [
    "#Если пользователь не передал ничего - анализируем всё\n",
    "full_onefactor_rules=s.RecomendOneFactorRules()"
   ]
  },
  {
   "cell_type": "code",
   "execution_count": null,
   "metadata": {
    "scrolled": true
   },
   "outputs": [],
   "source": [
    "for rule in full_onefactor_rules:\n",
    "    print(RuleToText(rule))"
   ]
  },
  {
   "cell_type": "code",
   "execution_count": null,
   "metadata": {},
   "outputs": [],
   "source": [
    "#Если пользователь передал набор полей - анализируем по ним\n",
    "user_columns=['CalculatedMaxLoanAmount','CalculatedMaxLoanAmountCS','CalculatedMaxLoanAmountRUR','ClientJobTerm','ClientCreditPayment']\n",
    "user_onefactor_rules=s.RecomendOneFactorRules(user_columns)"
   ]
  },
  {
   "cell_type": "code",
   "execution_count": null,
   "metadata": {
    "scrolled": true
   },
   "outputs": [],
   "source": [
    "for rule in user_onefactor_rules:\n",
    "    print(RuleToText(rule))"
   ]
  },
  {
   "cell_type": "code",
   "execution_count": null,
   "metadata": {},
   "outputs": [],
   "source": [
    "#приводим к бинарному виду\n",
    "new_types_and_roles, potential_rules=s.Bin_new_rules(full_onefactor_rules)"
   ]
  },
  {
   "cell_type": "code",
   "execution_count": null,
   "metadata": {},
   "outputs": [],
   "source": [
    "#повторно получаем статистику, теперь уже с новыми маркерами\n",
    "new_data_desctiption, new_data_desctiption_m, new_one_factor, new_unique_factor, new_time, new_ch_rules, new_p_rule = s.AnalyseMarkedData(new_types_and_roles)"
   ]
  },
  {
   "cell_type": "code",
   "execution_count": null,
   "metadata": {},
   "outputs": [],
   "source": [
    "new_one_factor"
   ]
  },
  {
   "cell_type": "code",
   "execution_count": null,
   "metadata": {},
   "outputs": [],
   "source": [
    "#добавились новые правила\n",
    "for i in range(len(types_and_roles)):\n",
    "    print(i, types_and_roles[i].name, types_and_roles[i].type, types_and_roles[i].role)"
   ]
  },
  {
   "cell_type": "code",
   "execution_count": null,
   "metadata": {},
   "outputs": [],
   "source": [
    "#поиск всех возможных комбинаций\n",
    "found_combinations =s.FindCombinations()"
   ]
  },
  {
   "cell_type": "code",
   "execution_count": null,
   "metadata": {},
   "outputs": [],
   "source": [
    "#поиск комбинаций по параметрам\n",
    "# 1: максимальный возможный уровень одобрения, при уровне риска не выше X% (уровень риска по одобренным\n",
    "param_max_dr=15\n",
    "optimized_by_dr=s.OptimezeRulesDR(param_max_dr)\n",
    "dr = pd.DataFrame(optimized_by_dr)\n",
    "\n",
    "# 2: минимальный уровень риска, при уровне одобрения не ниже Y%\n",
    "param_min_ar=10\n",
    "optimized_by_ar=s.OptimezeRulesAR(param_min_ar)\n",
    "ar = pd.DataFrame(optimized_by_ar)"
   ]
  },
  {
   "cell_type": "code",
   "execution_count": null,
   "metadata": {},
   "outputs": [],
   "source": [
    "dr"
   ]
  },
  {
   "cell_type": "markdown",
   "metadata": {},
   "source": [
    "# Поиск многофакторных правил"
   ]
  },
  {
   "cell_type": "code",
   "execution_count": null,
   "metadata": {},
   "outputs": [],
   "source": [
    "# метод для визуализации найденных мульти-правил\n",
    "def MultyRuleToText(rule, delta_dr):\n",
    "    if rule is None:\n",
    "        return 'Не было найдено подходящих правил. Проверьте, возможно один из столбцов пустой'\n",
    "    result_text='Рекомендуется ограничить выдачи по заявкам, где '\n",
    "    for r in rule[:-1]:\n",
    "        result_text+='{} {} {} и '.format(r[0], r[1], round(r[2],4))\n",
    "    result_text = result_text[:-3] + '. Что позволит снизить DR на {}%'.format(round(delta_dr*100, 2))\n",
    "    return result_text"
   ]
  },
  {
   "cell_type": "code",
   "execution_count": null,
   "metadata": {},
   "outputs": [],
   "source": [
    "#Если пользователь не передал ничего - анализируем всё\n",
    "best_multirule, dr_delta=s.RecomendMultyFactorRules()\n",
    "MultyRuleToText(best_multirule, dr_delta)"
   ]
  },
  {
   "cell_type": "code",
   "execution_count": null,
   "metadata": {},
   "outputs": [],
   "source": [
    "#Если пользователь передал набор полей - анализируем по ним\n",
    "user_columns=['CalculatedMaxLoanAmount','CalculatedMaxLoanAmountCS','CalculatedMaxLoanAmountRUR', 'ClientJobTermTotal']\n",
    "user_best_multirule, user_dr_delta=s.RecomendMultyFactorRules(user_columns)\n",
    "MultyRuleToText(user_best_multirule, user_dr_delta)"
   ]
  },
  {
   "cell_type": "code",
   "execution_count": null,
   "metadata": {},
   "outputs": [],
   "source": [
    "ncr_CalculatedMaxLoanAmountRUR VariableTypeEnum.Binary VariableRoleEnum.POTENCIAL_RULE\n",
    "97 ncr_ClientAge VariableTypeEnum.Binary VariableRoleEnum.POTENCIAL_RULE\n",
    "98 ncr_ClientJobTerm VariableTypeEnum.Binary VariableRoleEnum.POTENCIAL_RULE\n",
    "99 ncr_ClientJobTermTotal VariableTypeEnum.Binary VariableRoleEnum.POTENCIAL_RULE\n",
    "100 ncr_ClientKidsNumber VariableTypeEnum.Binary VariableRoleEnum.POTENCIAL_RULE\n",
    "101 ncr_FbrFicoScore VariableTypeEnum.Binary VariableRoleEnum.POTENCIAL_RULE\n",
    "102 ncr_FbrNumAcc VariableTypeEnum.Binary VariableRoleEnum.POTENCIAL_RULE\n",
    "103 ncr_FbrNumAccOpen VariableTypeEnum.Binary VariableRoleEnum.POTENCIAL_RULE\n",
    "104 ncr_FbrNumAccOpen6M VariableTypeEnum.Binary VariableRoleEnum.POTENCIAL_RULE\n",
    "105 ncr_FbrNumRequestCred3M VariableTypeEnum.Binary VariableRoleEnum.POTENCIAL_RULE\n",
    "106 ncr_FbrSumCloseCredAll VariableTypeEnum.Binary VariableRoleEnum.POTENCIAL_RULE\n",
    "107 ncr_FbrSumCredLimAll VariableTypeEnum.Binary VariableRoleEnum.POTENCIAL_RULE\n",
    "108 ncr_FbrSumMonthPayAll VariableTypeEnum.Binary VariableRoleEnum.POTENCIAL_RULE\n",
    "109 ncr_FICOScorePointValue VariableTypeEnum.Binary VariableRoleEnum.POTENCIAL_RULE\n",
    "110 ncr_LoanBalance VariableTypeEnum.Binary VariableRoleEnum.POTENCIAL_RULE\n",
    "111 ncr_LoanRate VariableTypeEnum.Binary VariableRoleEnum.POTENCIAL_RULE\n",
    "112 ncr_LoanTerm VariableTypeEnum.Binary VariableRoleEnum.POTENCIAL_RULE\n",
    "113 ncr_LoanYearRate VariableTypeEnum.Binary VariableRoleEnum.POTENCIAL_RULE\n",
    "114 ncr_CalcClientAverageExpenses VariableTypeEnum.Binary VariableRoleEnum.POTENCIAL_RULE\n",
    "115 ncr_CalcPreliminaryCostLoan VariableTypeEnum.Binary VariableRoleEnum.POTENCIAL_RULE\n",
    "116 ncr_CalcMaxLoanCS VariableTypeEnum.Binary VariableRoleEnum.POTENCIAL_RULE\n",
    "117 ncr_CalcMaxCostsCS VariableTypeEnum.Binary VariableRoleEnum.POTENCIAL_RULE\n",
    "118 ncr_CalcMaxPaymCS VariableTypeEnum.Binary VariableRoleEnum.POTENCIAL_RULE\n",
    "119 ncr_CalcCalculatedMaxLoanAmount VariableTypeEnum.Binary VariableRoleEnum.POTENCIAL_RULE\n",
    "120 ncr_CalcScore VariableTypeEnum.Binary VariableRoleEnum.POTENCIAL_RULE"
   ]
  }
 ],
 "metadata": {
  "kernelspec": {
   "display_name": "Python 3",
   "language": "python",
   "name": "python3"
  },
  "language_info": {
   "codemirror_mode": {
    "name": "ipython",
    "version": 3
   },
   "file_extension": ".py",
   "mimetype": "text/x-python",
   "name": "python",
   "nbconvert_exporter": "python",
   "pygments_lexer": "ipython3",
   "version": "3.6.4"
  }
 },
 "nbformat": 4,
 "nbformat_minor": 2
}
