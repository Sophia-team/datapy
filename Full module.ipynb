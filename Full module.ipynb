{
 "cells": [
  {
   "cell_type": "code",
   "execution_count": null,
   "metadata": {},
   "outputs": [],
   "source": [
    "%run -i datapy/analyze/classes.py\n",
    "%run -i datapy/analyze/descriptives.py\n",
    "%run -i datapy/analyze/recomendation.py\n",
    "%run -i datapy/analyze/server.py"
   ]
  },
  {
   "cell_type": "code",
   "execution_count": null,
   "metadata": {},
   "outputs": [],
   "source": [
    "igor_path='C:\\\\Users\\\\Admin\\\\Desktop\\\\strategy_full.csv'\n",
    "#igor_path='C:\\\\Users\\\\shcherbakov2-ia\\\\Documents\\\\Python Scripts\\\\other\\\\prj\\\\strategy_full.csv'\n",
    "anton_path='C:\\\\Users\\\\Anton\\\\repository\\\\datapy\\\\data\\\\strategy_full.csv'\n",
    "path=igor_path"
   ]
  },
  {
   "cell_type": "code",
   "execution_count": null,
   "metadata": {},
   "outputs": [],
   "source": [
    "%run -i datapy/analyze/server.py\n",
    "s=server()\n",
    "s.setfile(path,delimiter=';', decimal=',',encoding='1251')"
   ]
  },
  {
   "cell_type": "markdown",
   "metadata": {},
   "source": [
    "## Определение ролей"
   ]
  },
  {
   "cell_type": "code",
   "execution_count": null,
   "metadata": {
    "scrolled": true
   },
   "outputs": [],
   "source": [
    "# начальное\n",
    "types_and_roles, missing= s.PredictTypesAndRoles()\n",
    "missing"
   ]
  },
  {
   "cell_type": "code",
   "execution_count": null,
   "metadata": {
    "scrolled": true
   },
   "outputs": [],
   "source": [
    "for i in range(len(types_and_roles)):\n",
    "    print(i, types_and_roles[i].name, types_and_roles[i].type, types_and_roles[i].role)"
   ]
  },
  {
   "cell_type": "code",
   "execution_count": null,
   "metadata": {},
   "outputs": [],
   "source": [
    "#Пользовательская корректировка\n",
    "\n",
    "types_and_roles[0].role = VariableRoleEnum.ID\n",
    "types_and_roles[1].role = VariableRoleEnum.DATE\n",
    "for i in range(2, 21):\n",
    "    types_and_roles[i].role = VariableRoleEnum.REJECTED\n",
    "for i in range(22, 35):\n",
    "    types_and_roles[i].role = VariableRoleEnum.FIXED_RULE\n",
    "for i in range(35, 39):\n",
    "    types_and_roles[i].role = VariableRoleEnum.HISTORICAL_RULE\n",
    "for i in range(39, 41):\n",
    "    types_and_roles[i].role = VariableRoleEnum.POTENCIAL_RULE\n",
    "\n",
    "\n",
    "types_and_roles[21].role = VariableRoleEnum.TARGET\n",
    "types_and_roles[20].role = VariableRoleEnum.NEW_CREDIT\n",
    "types_and_roles[41].role = VariableRoleEnum.APPROVED\n",
    "types_and_roles[42].role = VariableRoleEnum.NTU\n",
    "types_and_roles[43].role = VariableRoleEnum.CREDITED\n",
    "\n",
    "for i in range(44,len(types_and_roles)): \n",
    "    types_and_roles[i].role = VariableRoleEnum.REJECTED\n",
    "\n",
    "for i in range(51,len(types_and_roles)): \n",
    "    types_and_roles[i].role = VariableRoleEnum.VALUE_COLUMN\n",
    "\n",
    "types_and_roles_edited=types_and_roles\n",
    "data_desctiption, data_desctiption_m, one_factor, unique_factor, time, ch_rules, p_rule, const_columns, val_columns = s.AnalyseMarkedData(types_and_roles_edited)\n",
    "#вывод таблицы с расчетным временем\n",
    "time"
   ]
  },
  {
   "cell_type": "code",
   "execution_count": null,
   "metadata": {},
   "outputs": [],
   "source": [
    "#вывод таблицы со статистикой\n",
    "data_desctiption"
   ]
  },
  {
   "cell_type": "code",
   "execution_count": null,
   "metadata": {
    "scrolled": true
   },
   "outputs": [],
   "source": [
    "#вывод таблицы со статистикой\n",
    "data_desctiption_m"
   ]
  },
  {
   "cell_type": "code",
   "execution_count": null,
   "metadata": {
    "scrolled": true
   },
   "outputs": [],
   "source": [
    "#вывод таблицы с однофакторным анализом\n",
    "one_factor"
   ]
  },
  {
   "cell_type": "code",
   "execution_count": null,
   "metadata": {
    "scrolled": true
   },
   "outputs": [],
   "source": [
    "#вывод таблицы с анализом уникальных отказов\n",
    "unique_factor"
   ]
  },
  {
   "cell_type": "code",
   "execution_count": null,
   "metadata": {},
   "outputs": [],
   "source": [
    "#удаляем столбцы с количеством пропусков выше заданного. по дефолту стоит 5%, можно установить свое значение\n",
    "missing_threshold=0.9\n",
    "s.DeleteMissing(missing_threshold)"
   ]
  },
  {
   "cell_type": "markdown",
   "metadata": {},
   "source": [
    "# Пользователь выбирает параметры\n",
    "после этого должен быть шаг выбора параметров:\n",
    "опция 1: максимальный возможный уровень одобрения, при уровне риска не выше X% (уровень риска по одобренным или уровень риска по выданным - в зависимости от того, предоставлено ли поле NTU)\n",
    "опция 2: минимальный уровень риска, при уровне одобрения не ниже Y%"
   ]
  },
  {
   "cell_type": "code",
   "execution_count": null,
   "metadata": {},
   "outputs": [],
   "source": [
    "#поиск всех возможных комбинаций\n",
    "found_combinations = s.FindCombinations()"
   ]
  },
  {
   "cell_type": "code",
   "execution_count": null,
   "metadata": {},
   "outputs": [],
   "source": [
    "#поиск комбинаций по параметрам\n",
    "# 1: максимальный возможный уровень одобрения, при уровне риска не выше X% (уровень риска по одобренным\n",
    "param_max_dr=15\n",
    "optimized_by_dr=s.OptimezeRulesDR(param_max_dr)\n",
    "dr = pd.DataFrame(optimized_by_dr)\n",
    "\n",
    "# 2: минимальный уровень риска, при уровне одобрения не ниже Y%\n",
    "param_min_ar=10\n",
    "optimized_by_ar=s.OptimezeRulesAR(param_min_ar)\n",
    "ar = pd.DataFrame(optimized_by_ar)"
   ]
  },
  {
   "cell_type": "code",
   "execution_count": null,
   "metadata": {
    "scrolled": true
   },
   "outputs": [],
   "source": [
    "dr"
   ]
  },
  {
   "cell_type": "markdown",
   "metadata": {},
   "source": [
    "# Пользователь вводит своё собственное правило"
   ]
  },
  {
   "cell_type": "code",
   "execution_count": null,
   "metadata": {},
   "outputs": [],
   "source": [
    "users_combination=['r_limit_loanamount', 'r_limit_loanburden', 'r_verification', 'r_security']\n",
    "user_combs=s.FindUsersCombination(users_combination)"
   ]
  },
  {
   "cell_type": "code",
   "execution_count": null,
   "metadata": {},
   "outputs": [],
   "source": [
    "user_combs.head(1)"
   ]
  },
  {
   "cell_type": "markdown",
   "metadata": {},
   "source": [
    "# Поиск однофакторных правил"
   ]
  },
  {
   "cell_type": "code",
   "execution_count": null,
   "metadata": {},
   "outputs": [],
   "source": [
    "# метод для визуализации найденных правил\n",
    "def RuleToText(rule):\n",
    "    column_name=rule[0]\n",
    "    thr=rule[1]\n",
    "    trend=rule[2]\n",
    "    dr_delta=rule[3]\n",
    "    ar_delta=rule[4]\n",
    "    if trend is None:\n",
    "        return \"Для поля {} не было найдено подходящих правил\".format(column_name)\n",
    "    elif trend:\n",
    "        return \"Рекомендуется ограничить выдачи по тем заявкам, где {} выше {}. Что позволит снизить DR на {}%, изменение AR составит: {}%\".format(column_name, thr, round(dr_delta*100,2), round(ar_delta*100,2))\n",
    "    else:\n",
    "        return \"Рекомендуется ограничить выдачи по тем заявкам, где {} ниже {}. Что позволит снизить DR на {}%, изменение AR составит: {}%\".format(column_name, thr, round(dr_delta*100,2), round(ar_delta*100,2))"
   ]
  },
  {
   "cell_type": "code",
   "execution_count": null,
   "metadata": {},
   "outputs": [],
   "source": [
    "user_columns=['CalcCalculatedMaxLoanAmount' ]\n",
    "user_onefactor_rules=s.RecomendOneFactorRules(user_columns)\n",
    "for rule in user_onefactor_rules:\n",
    "    print(RuleToText(rule))"
   ]
  },
  {
   "cell_type": "code",
   "execution_count": null,
   "metadata": {},
   "outputs": [],
   "source": [
    "#Если пользователь не передал ничего - анализируем всё\n",
    "full_onefactor_rules=s.RecomendOneFactorRules()"
   ]
  },
  {
   "cell_type": "code",
   "execution_count": null,
   "metadata": {
    "scrolled": true
   },
   "outputs": [],
   "source": [
    "for rule in full_onefactor_rules:\n",
    "    print(RuleToText(rule))"
   ]
  },
  {
   "cell_type": "code",
   "execution_count": null,
   "metadata": {},
   "outputs": [],
   "source": [
    "#Если пользователь передал набор полей - анализируем по ним\n",
    "user_columns=['ClientJobTerm','ClientCreditPayment']\n",
    "user_onefactor_rules=s.RecomendOneFactorRules(user_columns)"
   ]
  },
  {
   "cell_type": "code",
   "execution_count": null,
   "metadata": {
    "scrolled": true
   },
   "outputs": [],
   "source": [
    "for rule in user_onefactor_rules:\n",
    "    print(RuleToText(rule))"
   ]
  },
  {
   "cell_type": "code",
   "execution_count": null,
   "metadata": {},
   "outputs": [],
   "source": [
    "#поиск комбинаций по параметрам\n",
    "# 1: максимальный возможный уровень одобрения, при уровне риска не выше X% (уровень риска по одобренным\n",
    "param_max_dr=15\n",
    "optimized_by_dr=s.OptimezeRulesDR(param_max_dr)\n",
    "dr = pd.DataFrame(optimized_by_dr)\n",
    "\n",
    "# 2: минимальный уровень риска, при уровне одобрения не ниже Y%\n",
    "param_min_ar=10\n",
    "optimized_by_ar=s.OptimezeRulesAR(param_min_ar)\n",
    "ar = pd.DataFrame(optimized_by_ar)"
   ]
  },
  {
   "cell_type": "code",
   "execution_count": null,
   "metadata": {},
   "outputs": [],
   "source": [
    "dr"
   ]
  },
  {
   "cell_type": "markdown",
   "metadata": {},
   "source": [
    "# Поиск многофакторных правил"
   ]
  },
  {
   "cell_type": "code",
   "execution_count": null,
   "metadata": {},
   "outputs": [],
   "source": [
    "# метод для визуализации найденных мульти-правил\n",
    "def MultyRuleToText(rule, delta_dr):\n",
    "    if rule is None:\n",
    "        return 'Не было найдено подходящих правил. Проверьте, возможно один из столбцов пустой'\n",
    "    result_text='Рекомендуется ограничить выдачи по заявкам, где '\n",
    "    for r in rule[:-1]:\n",
    "        result_text+='{} {} {} и '.format(r[0], r[1], round(r[2],4))\n",
    "    result_text = result_text[:-3] + '. Что позволит снизить DR на {}%'.format(round(delta_dr*100, 2))\n",
    "    return result_text"
   ]
  },
  {
   "cell_type": "code",
   "execution_count": null,
   "metadata": {},
   "outputs": [],
   "source": [
    "new_val_columns = [v for v in val_columns if v in s._data.columns]"
   ]
  },
  {
   "cell_type": "code",
   "execution_count": null,
   "metadata": {},
   "outputs": [],
   "source": [
    "# Кодируем категориальные столбцы, выкинув удалённые столбцы\n",
    "encode_dic=s.EncodeCategories(new_val_columns)"
   ]
  },
  {
   "cell_type": "code",
   "execution_count": null,
   "metadata": {},
   "outputs": [],
   "source": [
    "#Если пользователь не передал ничего - анализируем всё\n",
    "best_multirule, dr_delta=s.RecomendMultyFactorRules()\n",
    "MultyRuleToText(best_multirule, dr_delta)"
   ]
  },
  {
   "cell_type": "code",
   "execution_count": null,
   "metadata": {},
   "outputs": [],
   "source": [
    "#Если пользователь передал набор полей - анализируем по ним\n",
    "user_columns=['ClientJobTermTotal', 'ClientPaymentCards']\n",
    "user_best_multirule, user_dr_delta=s.RecomendMultyFactorRules(user_columns)\n",
    "MultyRuleToText(user_best_multirule, user_dr_delta)"
   ]
  },
  {
   "cell_type": "markdown",
   "metadata": {},
   "source": [
    "# Создание новых бинарных правил"
   ]
  },
  {
   "cell_type": "code",
   "execution_count": null,
   "metadata": {},
   "outputs": [],
   "source": [
    "#Применение рекомендованных правил\n",
    "new_types_and_roles, potential_rules=s.Bin_new_rules(full_onefactor_rules)"
   ]
  },
  {
   "cell_type": "code",
   "execution_count": null,
   "metadata": {},
   "outputs": [],
   "source": [
    "#пользовательские правила\n",
    "user_input='ClientPaymentCards>1'\n",
    "user_rules=s.ParseRule(user_input)\n",
    "and_rules=[r[0] for r in user_rules]\n",
    "\n",
    "new_types_and_roles, potential_rules=s.Bin_new_rules(and_rules)"
   ]
  },
  {
   "cell_type": "markdown",
   "metadata": {},
   "source": [
    "# Однофакторные правила с выводом как в  Single factor analysis"
   ]
  },
  {
   "cell_type": "code",
   "execution_count": null,
   "metadata": {
    "scrolled": true
   },
   "outputs": [],
   "source": [
    "#поиск возможных правил\n",
    "new_user_onefactor_rules=s.RecomendOneFactorRules()\n",
    "for rule in new_user_onefactor_rules:\n",
    "    print(RuleToText(rule))"
   ]
  },
  {
   "cell_type": "code",
   "execution_count": null,
   "metadata": {},
   "outputs": [],
   "source": [
    "#из новых предложенных правил пользователь выбирает те, что хочет создать\n",
    "new_user_rules_to_create=[new_user_onefactor_rules[0], new_user_onefactor_rules[2]]\n",
    "#и создаёт их \n",
    "new_types_and_roles, potential_rules=s.Bin_new_rules(new_user_rules_to_create)"
   ]
  },
  {
   "cell_type": "code",
   "execution_count": null,
   "metadata": {},
   "outputs": [],
   "source": [
    "#повторно получаем статистику, теперь уже с новыми маркерами\n",
    "new_data_desctiption, new_data_desctiption_m, new_one_factor, new_unique_factor, new_time, new_ch_rules, new_p_rule, const_columns, val_columns = s.AnalyseMarkedData(new_types_and_roles)"
   ]
  },
  {
   "cell_type": "code",
   "execution_count": null,
   "metadata": {},
   "outputs": [],
   "source": [
    "new_time"
   ]
  },
  {
   "cell_type": "code",
   "execution_count": null,
   "metadata": {},
   "outputs": [],
   "source": [
    "#поиск всех возможных комбинаций\n",
    "found_combinations =s.FindCombinations()\n",
    "found_combinations"
   ]
  },
  {
   "cell_type": "code",
   "execution_count": null,
   "metadata": {},
   "outputs": [],
   "source": [
    "def int_to_obj(data, dick):\n",
    "    for k, val in dick.items():\n",
    "        for v, n in val.items():\n",
    "            data.loc[data[k] == n, k] = v"
   ]
  }
 ],
 "metadata": {
  "kernelspec": {
   "display_name": "Python 3",
   "language": "python",
   "name": "python3"
  },
  "language_info": {
   "codemirror_mode": {
    "name": "ipython",
    "version": 3
   },
   "file_extension": ".py",
   "mimetype": "text/x-python",
   "name": "python",
   "nbconvert_exporter": "python",
   "pygments_lexer": "ipython3",
   "version": "3.6.4"
  }
 },
 "nbformat": 4,
 "nbformat_minor": 2
}
