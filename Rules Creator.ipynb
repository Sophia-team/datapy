{
 "cells": [
  {
   "cell_type": "markdown",
   "metadata": {},
   "source": [
    "## Подготовка данных\n",
    "Тут собирается очень сложно. Должен быть один файл с данными по клиенту и флагом дефолта по нему"
   ]
  },
  {
   "cell_type": "code",
   "execution_count": null,
   "metadata": {},
   "outputs": [],
   "source": [
    "import pandas as pd\n",
    "igor_path='C:\\\\Временные файлы\\\\strategy_full.xlsx'\n",
    "\n",
    "full_data=pd.read_excel(igor_path)"
   ]
  },
  {
   "cell_type": "markdown",
   "metadata": {},
   "source": [
    "# Анализ данных"
   ]
  },
  {
   "cell_type": "code",
   "execution_count": null,
   "metadata": {},
   "outputs": [],
   "source": [
    "%run -i datapy/analyze/recomendation.py\n",
    "\n",
    "server=recommender()"
   ]
  },
  {
   "cell_type": "markdown",
   "metadata": {},
   "source": [
    "## Поиск однофакторных правил"
   ]
  },
  {
   "cell_type": "code",
   "execution_count": null,
   "metadata": {},
   "outputs": [],
   "source": [
    "#Набор полей, по которым ищутся правила, передаётся клиентом\n",
    "columns=['ClientKidsNumber','ClientAge','CalculatedMaxLoanAmountCS','LoanYearRate']\n",
    "#Поле - флаг дефолта, передаётся клиентом\n",
    "default_column='target_90p_12mob_objective'\n",
    "result=server.RecommendRules(full_data, columns, default_column)\n",
    "result"
   ]
  },
  {
   "cell_type": "markdown",
   "metadata": {},
   "source": [
    "#### Пример вывода данных по предлагаемым правилам пользователю"
   ]
  },
  {
   "cell_type": "code",
   "execution_count": null,
   "metadata": {},
   "outputs": [],
   "source": [
    "#пример обработк полученных правил\n",
    "def RuleToText(rule):\n",
    "    column_name=rule[0]\n",
    "    thr=rule[1]\n",
    "    trend=rule[2]\n",
    "    dr_delta=rule[3]\n",
    "    if trend is None:\n",
    "        return \"Для поля {} не было найдено подходящих правил\".format(column_name)\n",
    "    elif trend:\n",
    "        return \"Рекомендуется ограничить выдачи по тем заявкам, где {} выше {}. Что позволит снизить DR на {}%\".format(column_name, thr, round(dr_delta*100,2))\n",
    "    else:\n",
    "        return \"Рекомендуется ограничить выдачи по тем заявкам, где {} ниже {}. Что позволит снизить DR на {}%\".format(column_name, thr, round(dr_delta*100,2))\n",
    "    \n",
    "for rule in result:\n",
    "    print(RuleToText(rule))"
   ]
  },
  {
   "cell_type": "markdown",
   "metadata": {},
   "source": [
    "## Поиск многофакторных правил"
   ]
  },
  {
   "cell_type": "code",
   "execution_count": null,
   "metadata": {},
   "outputs": [],
   "source": [
    "%run -i datapy/analyze/recomendation.py\n",
    "server=recommender()\n",
    "\n",
    "#Набор полей, по которым ищутся правила, передаётся клиентом\n",
    "columns=['ClientKidsNumber','ClientAge','CalculatedMaxLoanAmountCS']\n",
    "#Поле - флаг дефолта, передаётся клиентом\n",
    "default_column='target_90p_12mob_objective'\n",
    "best_multirule, dr_delta=server.RecommendMultiRules(full_data, columns, default_column)"
   ]
  },
  {
   "cell_type": "markdown",
   "metadata": {},
   "source": [
    "#### Пример вывода данных по предлагаемым мульти-правилам пользователю"
   ]
  },
  {
   "cell_type": "code",
   "execution_count": null,
   "metadata": {},
   "outputs": [],
   "source": [
    "def ruleToText(rule, delta_dr):\n",
    "    result_text='Рекомендуется ограничить выдачи по заявкам, где '\n",
    "    for r in rule[:-1]:\n",
    "        result_text+='{} {} {} и '.format(r[0], r[1], round(r[2],4))\n",
    "    result_text = result_text[:-3] + '. Что позволит снизить DR на {}%'.format(round(delta_dr*100, 2))\n",
    "    return result_text\n",
    "    \n",
    "ruleToText(best_multirule, dr_delta)"
   ]
  }
 ],
 "metadata": {
  "anaconda-cloud": {},
  "kernelspec": {
   "display_name": "Python 3",
   "language": "python",
   "name": "python3"
  },
  "language_info": {
   "codemirror_mode": {
    "name": "ipython",
    "version": 3
   },
   "file_extension": ".py",
   "mimetype": "text/x-python",
   "name": "python",
   "nbconvert_exporter": "python",
   "pygments_lexer": "ipython3",
   "version": "3.6.4"
  }
 },
 "nbformat": 4,
 "nbformat_minor": 2
}
