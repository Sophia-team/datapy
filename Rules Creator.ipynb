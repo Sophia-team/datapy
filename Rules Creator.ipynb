{
 "cells": [
  {
   "cell_type": "markdown",
   "metadata": {},
   "source": [
    "## Подготовка данных\n",
    "Тут собирается очень сложно. Должен быть один файл с данными по клиенту и флагом дефолта по нему"
   ]
  },
  {
   "cell_type": "code",
   "execution_count": null,
   "metadata": {},
   "outputs": [],
   "source": [
    "#путь к файлу\n",
    "strategy_data_path='C:\\\\Временные файлы\\\\strategy_data.csv'"
   ]
  },
  {
   "cell_type": "code",
   "execution_count": null,
   "metadata": {},
   "outputs": [],
   "source": [
    "#import всего нужного \n",
    "import os\n",
    "#читаем файл с данными по клиентам\n",
    "pwd = os.getcwd()\n",
    "os.chdir(os.path.dirname(strategy_data_path))\n",
    "strategy_data=pd.read_csv(os.path.basename(strategy_data_path), delimiter=';', decimal='.',quotechar=\"'\", encoding='1251')\n",
    "os.chdir(pwd)"
   ]
  },
  {
   "cell_type": "code",
   "execution_count": null,
   "metadata": {},
   "outputs": [],
   "source": [
    "#читаем и пробразуем файл с инфой по дефолтам\n",
    "strategy_result_path='C:\\\\Users\\\\Admin\\\\Desktop\\\\strategy_result.csv'\n",
    "strategy_result=pd.read_csv(strategy_result_path, delimiter=';', decimal='.',quotechar=\"'\", encoding='1251')\n",
    "strategy_result.rename(index=str, columns={\"ApplicationID\": \"ApplicationId\", \"target_90p_12mob_objective\": \"IsDefault\"},inplace=True)\n",
    "strategy_result.reset_index(inplace=True)\n",
    "strategy_result=strategy_result[['ApplicationId', 'IsDefault']]"
   ]
  },
  {
   "cell_type": "code",
   "execution_count": null,
   "metadata": {},
   "outputs": [],
   "source": [
    "#Данные по клиентам с признаком дефолта (НО тк в предоставленных данных айди у заявок разные, джоиним рандомно)\n",
    "#full_data=strategy_data.join(other=strategy_result, on='ApplicationId', how='left', rsuffix='_r')\n",
    "full_data=strategy_data.join(other=strategy_result, rsuffix='_r')"
   ]
  },
  {
   "cell_type": "markdown",
   "metadata": {},
   "source": [
    "## Анализ данных по клиентам"
   ]
  },
  {
   "cell_type": "code",
   "execution_count": null,
   "metadata": {},
   "outputs": [],
   "source": [
    "%run -i datapy/analyze/recomendation.py\n",
    "\n",
    "server=recommender()"
   ]
  },
  {
   "cell_type": "code",
   "execution_count": null,
   "metadata": {},
   "outputs": [],
   "source": [
    "#Набор полей, по которым ищутся правила, передаётся клиентом\n",
    "columns=['ClientIncomeAddit6','HPoint_MinValue','ClientJobSalary6','ClientExpenseTotal']\n",
    "#Поле - флаг дефолта, передаётся клиентом\n",
    "default_column='IsDefault'\n",
    "result=server.RecommendRules(full_data, columns, default_column)\n",
    "result"
   ]
  },
  {
   "cell_type": "markdown",
   "metadata": {},
   "source": [
    "### Пример вывода данных по предлагаемым правилам пользователю"
   ]
  },
  {
   "cell_type": "code",
   "execution_count": null,
   "metadata": {},
   "outputs": [],
   "source": [
    "#пример обработк полученных правил\n",
    "def RuleToText(rule):\n",
    "    column_name=rule[0]\n",
    "    thr=rule[1]\n",
    "    trend=rule[2]\n",
    "    if trend is None:\n",
    "        return \"Для поля {} не было найдено подходящих правил\".format(column_name)\n",
    "    elif trend:\n",
    "        return \"Рекомендуется ограничить выдачи по тем заявкам, где {} выше {}\".format(column_name, thr)\n",
    "    else:\n",
    "        return \"Рекомендуется ограничить выдачи по тем заявкам, где {} ниже {}\".format(column_name, thr)\n",
    "    \n",
    "for rule in result:\n",
    "    print(RuleToText(rule))"
   ]
  }
 ],
 "metadata": {
  "anaconda-cloud": {},
  "kernelspec": {
   "display_name": "Python 3",
   "language": "python",
   "name": "python3"
  },
  "language_info": {
   "codemirror_mode": {
    "name": "ipython",
    "version": 3
   },
   "file_extension": ".py",
   "mimetype": "text/x-python",
   "name": "python",
   "nbconvert_exporter": "python",
   "pygments_lexer": "ipython3",
   "version": "3.6.4"
  }
 },
 "nbformat": 4,
 "nbformat_minor": 2
}
