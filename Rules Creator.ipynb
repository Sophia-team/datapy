{
 "cells": [
  {
   "cell_type": "markdown",
   "metadata": {},
   "source": [
    "## Подготовка данных\n",
    "Тут собирается очень сложно. Должен быть один файл с данными по клиенту и флагом дефолта по нему"
   ]
  },
  {
   "cell_type": "code",
   "execution_count": 1,
   "metadata": {},
   "outputs": [],
   "source": [
    "#путь к файлу\n",
    "strategy_data_path='C:\\\\Временные файлы\\\\strategy_data.csv'"
   ]
  },
  {
   "cell_type": "code",
   "execution_count": 2,
   "metadata": {},
   "outputs": [
    {
     "name": "stderr",
     "output_type": "stream",
     "text": [
      "C:\\Users\\Admin\\Anaconda3\\lib\\site-packages\\IPython\\core\\interactiveshell.py:2728: DtypeWarning: Columns (1,3,4,10,12,14,36,44,61,62,66,67,80,84,87,95,100,105,107,110,118,122,123,126,129,130,132,136,138,139,145,146,149,155,157,174,182,189,198,201,204,205,206,207,208,214,215,216,217,224,226,227,228,231,232,233,234,241,242,244,245,247,248,249,253,256,270,272,274,275,277,280,284,286,287,288,295,302,303,304,305,308,309,312,316,325,326,330,331,332,335,338,340,351,354,357,358,364,365,366,367,368,369,373,376,377,380,382,397,409,410,411,412,414,415,419,420,423,424,426,427,430,431,443,446,468,472,477,480,481,486,493,498,504,505,508,510,511,514,515,516,517,520,521,523,525,536,539,544,550,557,567,568,571,573,576,577,578,587,592,595,597) have mixed types. Specify dtype option on import or set low_memory=False.\n",
      "  interactivity=interactivity, compiler=compiler, result=result)\n"
     ]
    }
   ],
   "source": [
    "#import всего нужного \n",
    "import os\n",
    "import pandas as pd\n",
    "#читаем файл с данными по клиентам\n",
    "pwd = os.getcwd()\n",
    "os.chdir(os.path.dirname(strategy_data_path))\n",
    "strategy_data=pd.read_csv(os.path.basename(strategy_data_path), delimiter=';', decimal='.',quotechar=\"'\", encoding='1251')\n",
    "os.chdir(pwd)"
   ]
  },
  {
   "cell_type": "code",
   "execution_count": 3,
   "metadata": {},
   "outputs": [],
   "source": [
    "#читаем и пробразуем файл с инфой по дефолтам\n",
    "strategy_result_path='C:\\\\Users\\\\Admin\\\\Desktop\\\\strategy_result.csv'\n",
    "strategy_result=pd.read_csv(strategy_result_path, delimiter=';', decimal='.',quotechar=\"'\", encoding='1251')\n",
    "strategy_result.rename(index=str, columns={\"ApplicationID\": \"ApplicationId\", \"target_90p_12mob_objective\": \"IsDefault\"},inplace=True)\n",
    "strategy_result.reset_index(inplace=True)\n",
    "strategy_result=strategy_result[['ApplicationId', 'IsDefault']]"
   ]
  },
  {
   "cell_type": "code",
   "execution_count": 4,
   "metadata": {},
   "outputs": [],
   "source": [
    "#Данные по клиентам с признаком дефолта (НО тк в предоставленных данных айди у заявок разные, джоиним рандомно)\n",
    "#full_data=strategy_data.join(other=strategy_result, on='ApplicationId', how='left', rsuffix='_r')\n",
    "full_data=strategy_data.join(other=strategy_result, rsuffix='_r')"
   ]
  },
  {
   "cell_type": "markdown",
   "metadata": {},
   "source": [
    "# Анализ данных"
   ]
  },
  {
   "cell_type": "code",
   "execution_count": 19,
   "metadata": {},
   "outputs": [],
   "source": [
    "%run -i datapy/analyze/recomendation.py\n",
    "\n",
    "server=recommender()"
   ]
  },
  {
   "cell_type": "markdown",
   "metadata": {},
   "source": [
    "## Поиск однофакторных правил"
   ]
  },
  {
   "cell_type": "code",
   "execution_count": 20,
   "metadata": {},
   "outputs": [
    {
     "data": {
      "text/plain": [
       "[['ClientIncomeAddit6', 44399.1328125, False, 0.00594848153551733],\n",
       " ['HPoint_MinValue', None, None, 0],\n",
       " ['ClientJobSalary6', 115605.765625, True, 0.004240458011197129],\n",
       " ['ClientExpenseTotal', 7171.39990234375, False, 0.005647352932099142]]"
      ]
     },
     "execution_count": 20,
     "metadata": {},
     "output_type": "execute_result"
    }
   ],
   "source": [
    "#Набор полей, по которым ищутся правила, передаётся клиентом\n",
    "columns=['ClientIncomeAddit6','HPoint_MinValue','ClientJobSalary6','ClientExpenseTotal']\n",
    "#Поле - флаг дефолта, передаётся клиентом\n",
    "default_column='IsDefault'\n",
    "result=server.RecommendRules(full_data, columns, default_column)\n",
    "result"
   ]
  },
  {
   "cell_type": "markdown",
   "metadata": {},
   "source": [
    "#### Пример вывода данных по предлагаемым правилам пользователю"
   ]
  },
  {
   "cell_type": "code",
   "execution_count": 23,
   "metadata": {},
   "outputs": [
    {
     "name": "stdout",
     "output_type": "stream",
     "text": [
      "Рекомендуется ограничить выдачи по тем заявкам, где ClientIncomeAddit6 ниже 44399.1328125. Что позволит снизить DR на 0.59%\n",
      "Для поля HPoint_MinValue не было найдено подходящих правил\n",
      "Рекомендуется ограничить выдачи по тем заявкам, где ClientJobSalary6 выше 115605.765625. Что позволит снизить DR на 0.42%\n",
      "Рекомендуется ограничить выдачи по тем заявкам, где ClientExpenseTotal ниже 7171.39990234375. Что позволит снизить DR на 0.56%\n"
     ]
    }
   ],
   "source": [
    "#пример обработк полученных правил\n",
    "def RuleToText(rule):\n",
    "    column_name=rule[0]\n",
    "    thr=rule[1]\n",
    "    trend=rule[2]\n",
    "    dr_delta=rule[3]\n",
    "    if trend is None:\n",
    "        return \"Для поля {} не было найдено подходящих правил\".format(column_name)\n",
    "    elif trend:\n",
    "        return \"Рекомендуется ограничить выдачи по тем заявкам, где {} выше {}. Что позволит снизить DR на {}%\".format(column_name, thr, round(dr_delta*100,2))\n",
    "    else:\n",
    "        return \"Рекомендуется ограничить выдачи по тем заявкам, где {} ниже {}. Что позволит снизить DR на {}%\".format(column_name, thr, round(dr_delta*100,2))\n",
    "    \n",
    "for rule in result:\n",
    "    print(RuleToText(rule))"
   ]
  },
  {
   "cell_type": "markdown",
   "metadata": {},
   "source": [
    "## Поиск многофакторных правил"
   ]
  },
  {
   "cell_type": "code",
   "execution_count": 74,
   "metadata": {},
   "outputs": [
    {
     "name": "stderr",
     "output_type": "stream",
     "text": [
      "datapy/analyze/recomendation.py:40: FutureWarning: 'argmax' is deprecated. Use 'idxmax' instead. The behavior of 'argmax' will be corrected to return the positional maximum in the future. Use 'series.values.argmax' to get the position of the maximum now.\n",
      "  \n"
     ]
    },
    {
     "data": {
      "text/plain": [
       "5"
      ]
     },
     "execution_count": 74,
     "metadata": {},
     "output_type": "execute_result"
    }
   ],
   "source": [
    "%run -i datapy/analyze/recomendation.py\n",
    "server=recommender()\n",
    "\n",
    "#Набор полей, по которым ищутся правила, передаётся клиентом\n",
    "columns=['ClientIncomeAddit6','HPoint_MinValue','ClientJobSalary6','ClientExpenseTotal']\n",
    "#Поле - флаг дефолта, передаётся клиентом\n",
    "default_column='IsDefault'\n",
    "result=server.RecommendMultiRules(full_data, columns, default_column)\n",
    "result"
   ]
  },
  {
   "cell_type": "code",
   "execution_count": 94,
   "metadata": {},
   "outputs": [
    {
     "data": {
      "text/plain": [
       "69933.265625"
      ]
     },
     "execution_count": 94,
     "metadata": {},
     "output_type": "execute_result"
    }
   ],
   "source": [
    "from sklearn.tree import _tree\n",
    "dt.tree_.feature[5]\n",
    "\n",
    "def _GetNodeDescription(DTree, node, feature_names):\n",
    "    tree_=DTree.tree_\n",
    "    feature_name = [\n",
    "        feature_names[i] if i != _tree.TREE_UNDEFINED else \"undefined!\"\n",
    "        for i in tree_.feature\n",
    "        ]\n",
    "    \n",
    "    return tree_.threshold[1]\n",
    "    \n",
    "_GetNodeDescription(dt,5, data.drop([default_column], axis=1).columns)"
   ]
  },
  {
   "cell_type": "code",
   "execution_count": 104,
   "metadata": {},
   "outputs": [
    {
     "name": "stdout",
     "output_type": "stream",
     "text": [
      "def tree(ClientIncomeAddit6, HPoint_MinValue, ClientJobSalary6, ClientExpenseTotal):\n",
      "  if ClientJobSalary6 <= 115605.765625:\n",
      "    if ClientJobSalary6 <= 69933.265625:\n",
      "    else:  # if ClientJobSalary6 > 69933.265625\n",
      "  else:  # if ClientJobSalary6 > 115605.765625\n",
      "    if ClientExpenseTotal <= 6630.5:\n",
      "    else:  # if ClientExpenseTotal > 6630.5\n",
      "None\n"
     ]
    }
   ],
   "source": [
    "def tree_to_code(tree, feature_names):\n",
    "    tree_ = tree.tree_\n",
    "    feature_name = [\n",
    "        feature_names[i] if i != _tree.TREE_UNDEFINED else \"undefined!\"\n",
    "        for i in tree_.feature\n",
    "        ]\n",
    "    print (\"def tree({}):\".format(\", \".join(feature_names)))\n",
    "\n",
    "    def recurse(node, depth):\n",
    "        indent = \"  \" * depth\n",
    "        if tree_.feature[node] != _tree.TREE_UNDEFINED:\n",
    "            name = feature_name[node]\n",
    "            threshold = tree_.threshold[node]\n",
    "            print (\"{}if {} <= {}:\".format(indent, name, threshold))\n",
    "            recurse(tree_.children_left[node], depth + 1)\n",
    "            print (\"{}else:  # if {} > {}\".format(indent, name, threshold))\n",
    "            recurse(tree_.children_right[node], depth + 1)\n",
    "        else:\n",
    "            return node\n",
    "\n",
    "    return recurse(0, 1)\n",
    "    \n",
    "a=tree_to_code(dt, data.drop([default_column], axis=1).columns)\n",
    "print(a)"
   ]
  },
  {
   "cell_type": "code",
   "execution_count": null,
   "metadata": {},
   "outputs": [],
   "source": []
  },
  {
   "cell_type": "code",
   "execution_count": 105,
   "metadata": {},
   "outputs": [
    {
     "name": "stdout",
     "output_type": "stream",
     "text": [
      "def tree(ClientIncomeAddit6, HPoint_MinValue, ClientJobSalary6, ClientExpenseTotal):\n",
      "  if ClientJobSalary6 <= 115605.765625:\n",
      "    if ClientJobSalary6 <= 69933.265625:\n",
      "      return [[4667.  608.]]\n",
      "    else:  # if ClientJobSalary6 > 69933.265625\n",
      "      return [[4559.  549.]]\n",
      "  else:  # if ClientJobSalary6 > 115605.765625\n",
      "    if ClientExpenseTotal <= 6630.5:\n",
      "      return [[7959. 1095.]]\n",
      "    else:  # if ClientExpenseTotal > 6630.5\n",
      "      return [[4319.  558.]]\n"
     ]
    }
   ],
   "source": [
    "from sklearn.tree import _tree\n",
    "\n",
    "def tree_to_code(tree, feature_names):\n",
    "    tree_ = tree.tree_\n",
    "    feature_name = [\n",
    "        feature_names[i] if i != _tree.TREE_UNDEFINED else \"undefined!\"\n",
    "        for i in tree_.feature\n",
    "        ]\n",
    "    print (\"def tree({}):\".format(\", \".join(feature_names)))\n",
    "\n",
    "    def recurse(node, depth):\n",
    "        indent = \"  \" * depth\n",
    "        if tree_.feature[node] != _tree.TREE_UNDEFINED:\n",
    "            name = feature_name[node]\n",
    "            threshold = tree_.threshold[node]\n",
    "            print (\"{}if {} <= {}:\".format(indent, name, threshold))\n",
    "            recurse(tree_.children_left[node], depth + 1)\n",
    "            print (\"{}else:  # if {} > {}\".format(indent, name, threshold))\n",
    "            recurse(tree_.children_right[node], depth + 1)\n",
    "        else:\n",
    "            print (\"{}return {}\".format(indent, tree_.value[node]))\n",
    "\n",
    "    recurse(0, 1)\n",
    "    \n",
    "tree_to_code(dt, data.drop([default_column], axis=1).columns)"
   ]
  }
 ],
 "metadata": {
  "anaconda-cloud": {},
  "kernelspec": {
   "display_name": "Python 3",
   "language": "python",
   "name": "python3"
  },
  "language_info": {
   "codemirror_mode": {
    "name": "ipython",
    "version": 3
   },
   "file_extension": ".py",
   "mimetype": "text/x-python",
   "name": "python",
   "nbconvert_exporter": "python",
   "pygments_lexer": "ipython3",
   "version": "3.6.4"
  }
 },
 "nbformat": 4,
 "nbformat_minor": 2
}
