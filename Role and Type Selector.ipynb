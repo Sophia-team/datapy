{
 "cells": [
  {
   "cell_type": "code",
   "execution_count": 37,
   "metadata": {
    "collapsed": false
   },
   "outputs": [],
   "source": [
    "#написать демо файл с импортом и использованием модуля"
   ]
  },
  {
   "cell_type": "code",
   "execution_count": 135,
   "metadata": {
    "collapsed": false
   },
   "outputs": [],
   "source": [
    "%run datapy/analyze/preanalyse.py\n",
    "\n",
    "#путь к файлу\n",
    "path='C:\\\\Users\\\\Anton\\\\repository\\\\datapy\\\\data\\\\strategy_result.csv'\n",
    "#метод возвращает предположительны етипы и роли переменных\n",
    "types_and_roles=types_and_roles_prediction(path)"
   ]
  },
  {
   "cell_type": "markdown",
   "metadata": {},
   "source": [
    "## Пользователь первый раз загружает файл, мы делаем предикт"
   ]
  },
  {
   "cell_type": "code",
   "execution_count": 136,
   "metadata": {
    "collapsed": true
   },
   "outputs": [],
   "source": [
    "#путь к файлу\n",
    "path='C:\\\\Users\\\\Anton\\\\repository\\\\datapy\\\\data\\\\strategy_result.csv'\n",
    "types_and_roles=types_and_roles_prediction(path)"
   ]
  },
  {
   "cell_type": "markdown",
   "metadata": {},
   "source": [
    "## Пользователь вносит изменения в предложенные роли и типы и отпарвляет нам инфу"
   ]
  },
  {
   "cell_type": "code",
   "execution_count": 137,
   "metadata": {
    "collapsed": false
   },
   "outputs": [
    {
     "name": "stdout",
     "output_type": "stream",
     "text": [
      "1\n"
     ]
    }
   ],
   "source": [
    "%run datapy/analyze/analyze.py\n",
    "\n",
    "#подкорректированные пользователем типы (тут - ьез корректировки - заглушка)\n",
    "types_and_roles_edited=types_and_roles\n",
    "\n",
    "\n",
    "#Вызов метода анализа взависимости от правил\n",
    "analyse_marked_data(path,types_and_roles_edited)\n",
    "\n",
    "#Здесь выводим:\n",
    "'''историческая ситуация определяется переменными  FIXED RULE,  HISTORICAL RULE, NTU(опционально), TARGET, \n",
    "по этим данным надо посчитать число записей, уровень одобрения, уровень NTU(если есть), уровень риска по одобренным, \n",
    "уровень риска по выданным (если указано NTU) и  нужно отобразить однофакторные и уникальные отказы по исторической ситуации'''\n",
    "print(1)"
   ]
  },
  {
   "cell_type": "markdown",
   "metadata": {},
   "source": [
    "## Пользователь выбирает параметры\n",
    "после этого должен быть шаг выбора параметров:\n",
    "опция 1: максимальный возможный уровень одобрения, при уровне риска не выше X% (уровень риска по одобренным или уровень риска по выданным - в зависимости от того, предоставлено ли поле NTU)\n",
    "опция 2: минимальный уровень риска, при уровне одобрения не ниже Y%"
   ]
  },
  {
   "cell_type": "code",
   "execution_count": 138,
   "metadata": {
    "collapsed": true
   },
   "outputs": [],
   "source": [
    "#code"
   ]
  },
  {
   "cell_type": "code",
   "execution_count": 160,
   "metadata": {
    "collapsed": false
   },
   "outputs": [],
   "source": [
    "types_and_roles[0].role = VariableRoleEnum.ID\n",
    "types_and_roles[1].role = VariableRoleEnum.DATE\n",
    "types_and_roles[2].role = VariableRoleEnum.REJECTED\n",
    "types_and_roles[3].role = VariableRoleEnum.REJECTED\n",
    "types_and_roles[4].role = VariableRoleEnum.REJECTED\n",
    "types_and_roles[5].role = VariableRoleEnum.TARGET\n",
    "for i in range(6, 17):\n",
    "    types_and_roles[i].role = VariableRoleEnum.FIXED_RULE\n",
    "for i in range(17, 25):\n",
    "    types_and_roles[i].role = VariableRoleEnum.HISTORICAL_RULE\n",
    "types_and_roles[25].role = VariableRoleEnum.APPROVED\n",
    "types_and_roles[26].role = VariableRoleEnum.NTU\n",
    "types_and_roles[27].role = VariableRoleEnum.CREDITED"
   ]
  },
  {
   "cell_type": "code",
   "execution_count": 164,
   "metadata": {
    "collapsed": true
   },
   "outputs": [],
   "source": [
    "def role_lists(types_and_roles):\n",
    "    target = list()\n",
    "    rules = list()\n",
    "    approved = list()\n",
    "    ntu = list()\n",
    "    credited = list()\n",
    "    for i in range(0,len(types_and_roles)):\n",
    "        if types_and_roles[i].role == VariableRoleEnum.TARGET:\n",
    "            target = types_and_roles[i].name\n",
    "        elif types_and_roles[i].role == VariableRoleEnum.APPROVED:\n",
    "            approved = types_and_roles[i].name\n",
    "        elif types_and_roles[i].role == VariableRoleEnum.NTU:\n",
    "            ntu = types_and_roles[i].name\n",
    "        elif types_and_roles[i].role == VariableRoleEnum.CREDITED:\n",
    "            credited = types_and_roles[i].name\n",
    "        elif types_and_roles[i].role == VariableRoleEnum.FIXED_RULE or types_and_roles[i].role == VariableRoleEnum.HISTORICAL_RULE:\n",
    "            rules.append(types_and_roles[i].name)\n",
    "    return target, rules, approved, ntu, credited \n",
    "\n",
    "target, rules, approved, ntu, credited = role_lists(types_and_roles)"
   ]
  },
  {
   "cell_type": "code",
   "execution_count": 161,
   "metadata": {
    "collapsed": false
   },
   "outputs": [],
   "source": [
    "import numpy as np\n",
    "t = np.empty((len(types_and_roles), 2), dtype='object')\n",
    "\n",
    "for p in range(0,len(types_and_roles)):\n",
    "    t[p,0], t[p, 1] = types_and_roles[p].name, types_and_roles[p].role\n",
    "    "
   ]
  },
  {
   "cell_type": "code",
   "execution_count": 162,
   "metadata": {
    "collapsed": false
   },
   "outputs": [
    {
     "data": {
      "text/plain": [
       "array([['ApplicationID', <VariableRoleEnum.ID: 6>],\n",
       "       ['AppFillDate', <VariableRoleEnum.DATE: 7>],\n",
       "       ['yr', <VariableRoleEnum.REJECTED: 1>],\n",
       "       ['appl_qtr', <VariableRoleEnum.REJECTED: 1>],\n",
       "       ['new_credit_30d', <VariableRoleEnum.REJECTED: 1>],\n",
       "       ['target_90p_12mob_objective', <VariableRoleEnum.TARGET: 99>],\n",
       "       ['r_stop_nodata', <VariableRoleEnum.FIXED_RULE: 2>],\n",
       "       ['r_stop_age', <VariableRoleEnum.FIXED_RULE: 2>],\n",
       "       ['r_stop_fms', <VariableRoleEnum.FIXED_RULE: 2>],\n",
       "       ['r_stop_workingterm', <VariableRoleEnum.FIXED_RULE: 2>],\n",
       "       ['r_stop_noincome', <VariableRoleEnum.FIXED_RULE: 2>],\n",
       "       ['r_stop_noexpenses', <VariableRoleEnum.FIXED_RULE: 2>],\n",
       "       ['r_stop_citizenship', <VariableRoleEnum.FIXED_RULE: 2>],\n",
       "       ['r_internalcredithist', <VariableRoleEnum.FIXED_RULE: 2>],\n",
       "       ['r_bki_bad', <VariableRoleEnum.FIXED_RULE: 2>],\n",
       "       ['r_bki_passable', <VariableRoleEnum.FIXED_RULE: 2>],\n",
       "       ['r_scoring', <VariableRoleEnum.FIXED_RULE: 2>],\n",
       "       ['r_limit_income', <VariableRoleEnum.HISTORICAL_RULE: 3>],\n",
       "       ['r_limit_loanrate', <VariableRoleEnum.HISTORICAL_RULE: 3>],\n",
       "       ['r_limit_loanamount', <VariableRoleEnum.HISTORICAL_RULE: 3>],\n",
       "       ['r_limit_loanterm', <VariableRoleEnum.HISTORICAL_RULE: 3>],\n",
       "       ['r_limit_loanburden', <VariableRoleEnum.HISTORICAL_RULE: 3>],\n",
       "       ['r_verification', <VariableRoleEnum.HISTORICAL_RULE: 3>],\n",
       "       ['r_security', <VariableRoleEnum.HISTORICAL_RULE: 3>],\n",
       "       ['r_underwriting', <VariableRoleEnum.HISTORICAL_RULE: 3>],\n",
       "       ['approved', <VariableRoleEnum.APPROVED: 9>],\n",
       "       ['ntu', <VariableRoleEnum.NTU: 5>],\n",
       "       ['credited', <VariableRoleEnum.CREDITED: 8>]], dtype=object)"
      ]
     },
     "execution_count": 162,
     "metadata": {},
     "output_type": "execute_result"
    }
   ],
   "source": [
    "t"
   ]
  }
 ],
 "metadata": {
  "anaconda-cloud": {},
  "kernelspec": {
   "display_name": "Python 2",
   "language": "python",
   "name": "python2"
  },
  "language_info": {
   "codemirror_mode": {
    "name": "ipython",
    "version": 2
   },
   "file_extension": ".py",
   "mimetype": "text/x-python",
   "name": "python",
   "nbconvert_exporter": "python",
   "pygments_lexer": "ipython2",
   "version": "2.7.13"
  }
 },
 "nbformat": 4,
 "nbformat_minor": 2
}
