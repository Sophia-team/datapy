{
 "cells": [
  {
   "cell_type": "code",
   "execution_count": null,
   "metadata": {
    "collapsed": false
   },
   "outputs": [],
   "source": [
    "#import всего нужного \n",
    "%run -i datapy/analyze/classes.py\n",
    "%run -i datapy/analyze/descriptives.py\n",
    "\n",
    "server=analyser()"
   ]
  },
  {
   "cell_type": "markdown",
   "metadata": {},
   "source": [
    "## Пользователь первый раз загружает файл, мы делаем предикт"
   ]
  },
  {
   "cell_type": "code",
   "execution_count": null,
   "metadata": {
    "collapsed": false
   },
   "outputs": [],
   "source": [
    "#путь к файлу\n",
    "igor_path='C:\\\\Users\\\\Admin\\\\Desktop\\\\strategy_result.csv'\n",
    "anton_path='C:\\\\Users\\\\Anton\\\\repository\\\\datapy\\\\data\\\\strategy_result.csv'\n",
    "path=igor_path\n",
    "types_and_roles, missing =server.types_and_roles_prediction(path)"
   ]
  },
  {
   "cell_type": "code",
   "execution_count": null,
   "metadata": {
    "collapsed": false
   },
   "outputs": [],
   "source": [
    "#оцениваем пропущенные значения\n",
    "missing"
   ]
  },
  {
   "cell_type": "markdown",
   "metadata": {},
   "source": [
    "## Пользователь вносит изменения в предложенные роли и типы и отправляет нам инфу"
   ]
  },
  {
   "cell_type": "code",
   "execution_count": null,
   "metadata": {
    "collapsed": true
   },
   "outputs": [],
   "source": [
    "# это типа пользователь вносит изменения\n",
    "types_and_roles[0].role = VariableRoleEnum.ID\n",
    "types_and_roles[1].role = VariableRoleEnum.DATE\n",
    "types_and_roles[2].role = VariableRoleEnum.REJECTED\n",
    "types_and_roles[3].role = VariableRoleEnum.REJECTED\n",
    "types_and_roles[4].role = VariableRoleEnum.NEW_CREDIT\n",
    "types_and_roles[5].role = VariableRoleEnum.TARGET\n",
    "for i in range(6, 19):\n",
    "    types_and_roles[i].role = VariableRoleEnum.FIXED_RULE\n",
    "for i in range(19, 25):\n",
    "    types_and_roles[i].role = VariableRoleEnum.HISTORICAL_RULE\n",
    "types_and_roles[25].role = VariableRoleEnum.APPROVED\n",
    "types_and_roles[26].role = VariableRoleEnum.NTU\n",
    "types_and_roles[27].role = VariableRoleEnum.CREDITED"
   ]
  },
  {
   "cell_type": "code",
   "execution_count": null,
   "metadata": {
    "collapsed": false
   },
   "outputs": [],
   "source": [
    "\n",
    "#подкорректированные пользователем типы\n",
    "types_and_roles_edited=types_and_roles\n",
    "\n",
    "data_desctiption, one_factor, unique_factor = server.analyse_marked_data(path,types_and_roles_edited)\n",
    "\n",
    "#вывод таблицы со статистикой\n",
    "data_desctiption"
   ]
  },
  {
   "cell_type": "code",
   "execution_count": null,
   "metadata": {
    "collapsed": false
   },
   "outputs": [],
   "source": [
    "#вывод таблицы с однофакторным анализом\n",
    "one_factor"
   ]
  },
  {
   "cell_type": "code",
   "execution_count": null,
   "metadata": {
    "collapsed": false
   },
   "outputs": [],
   "source": [
    "#вывод таблицы с анализом уникальных отказов\n",
    "unique_factor"
   ]
  },
  {
   "cell_type": "markdown",
   "metadata": {},
   "source": [
    "## Пользователь выбирает параметры\n",
    "после этого должен быть шаг выбора параметров:\n",
    "опция 1: максимальный возможный уровень одобрения, при уровне риска не выше X% (уровень риска по одобренным или уровень риска по выданным - в зависимости от того, предоставлено ли поле NTU)\n",
    "опция 2: минимальный уровень риска, при уровне одобрения не ниже Y%"
   ]
  },
  {
   "cell_type": "code",
   "execution_count": null,
   "metadata": {
    "collapsed": false
   },
   "outputs": [],
   "source": [
    "#поиск всех возможных комбинаций\n",
    "start = time.time()\n",
    "found_combinations=server.find_combinations()\n",
    "end = time.time()\n",
    "elapsed = end - start\n",
    "#print(elapsed//60, elapsed%60)found_combinations"
   ]
  },
  {
   "cell_type": "code",
   "execution_count": null,
   "metadata": {
    "collapsed": false
   },
   "outputs": [],
   "source": [
    "#поиск комбинаций по параметрам\n",
    "# 1: максимальный возможный уровень одобрения, при уровне риска не выше X% (уровень риска по одобренным\n",
    "param_max_dr=0.1\n",
    "optimized_by_dr=server.optimize_rules_dr(param_max_dr)\n",
    "dr = pd.DataFrame(optimized_by_dr)\n",
    "\n",
    "# 2: минимальный уровень риска, при уровне одобрения не ниже Y%\n",
    "param_min_ar=0.1\n",
    "optimized_by_ar=server.optimize_rules_ar(param_min_ar)\n",
    "ar = pd.DataFrame(optimized_by_ar)"
   ]
  },
  {
   "cell_type": "markdown",
   "metadata": {},
   "source": [
    "## Пользователь вводит своё собственнео правило"
   ]
  },
  {
   "cell_type": "code",
   "execution_count": null,
   "metadata": {
    "collapsed": true
   },
   "outputs": [],
   "source": []
  },
  {
   "cell_type": "code",
   "execution_count": null,
   "metadata": {
    "collapsed": false
   },
   "outputs": [],
   "source": [
    "(1.0, 43.82599997520447, 1024)\n",
    "(3.0, 30.384999990463257, 2048)\n",
    "(7.0, 24.750999927520752, 4096)"
   ]
  }
 ],
 "metadata": {
  "anaconda-cloud": {},
  "kernelspec": {
   "display_name": "Python 3",
   "language": "python",
   "name": "python3"
  },
  "language_info": {
   "codemirror_mode": {
    "name": "ipython",
    "version": 3
   },
   "file_extension": ".py",
   "mimetype": "text/x-python",
   "name": "python",
   "nbconvert_exporter": "python",
   "pygments_lexer": "ipython3",
   "version": "3.5.2"
  }
 },
 "nbformat": 4,
 "nbformat_minor": 2
}
