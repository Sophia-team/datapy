{
 "cells": [
  {
   "cell_type": "code",
   "execution_count": null,
   "metadata": {
    "collapsed": false
   },
   "outputs": [],
   "source": [
    "#import всего нужного \n",
    "%run -i datapy/analyze/classes.py\n",
    "%run -i datapy/analyze/descriptives.py"
   ]
  },
  {
   "cell_type": "markdown",
   "metadata": {},
   "source": [
    "## Пользователь первый раз загружает файл, мы делаем предикт"
   ]
  },
  {
   "cell_type": "code",
   "execution_count": null,
   "metadata": {
    "collapsed": true
   },
   "outputs": [],
   "source": [
    "#путь к файлу\n",
    "igor_path='C:\\\\Users\\\\Admin\\\\Desktop\\\\strategy_result.csv'\n",
    "anton_path='C:\\\\Users\\\\Anton\\\\repository\\\\datapy\\\\data\\\\strategy_result.csv'\n",
    "path=igor_path\n",
    "types_and_roles=types_and_roles_prediction(path)"
   ]
  },
  {
   "cell_type": "markdown",
   "metadata": {},
   "source": [
    "## Пользователь вносит изменения в предложенные роли и типы и отправляет нам инфу"
   ]
  },
  {
   "cell_type": "code",
   "execution_count": null,
   "metadata": {
    "collapsed": true
   },
   "outputs": [],
   "source": [
    "# это типа пользователь вносит изменения\n",
    "types_and_roles[0].role = VariableRoleEnum.ID\n",
    "types_and_roles[1].role = VariableRoleEnum.DATE\n",
    "types_and_roles[2].role = VariableRoleEnum.REJECTED\n",
    "types_and_roles[3].role = VariableRoleEnum.REJECTED\n",
    "types_and_roles[4].role = VariableRoleEnum.NEW_CREDIT\n",
    "types_and_roles[5].role = VariableRoleEnum.TARGET\n",
    "for i in range(6, 17):\n",
    "    types_and_roles[i].role = VariableRoleEnum.FIXED_RULE\n",
    "for i in range(17, 25):\n",
    "    types_and_roles[i].role = VariableRoleEnum.HISTORICAL_RULE\n",
    "types_and_roles[25].role = VariableRoleEnum.APPROVED\n",
    "types_and_roles[26].role = VariableRoleEnum.NTU\n",
    "types_and_roles[27].role = VariableRoleEnum.CREDITED"
   ]
  },
  {
   "cell_type": "code",
   "execution_count": null,
   "metadata": {
    "collapsed": false
   },
   "outputs": [],
   "source": [
    "# ещё раз импорт методов для удобства\n",
    "%run -i datapy/analyze/descriptives.py\n",
    "\n",
    "#подкорректированные пользователем типы\n",
    "types_and_roles_edited=types_and_roles\n",
    "\n",
    "#Вызов метода анализа взависимости от правил\n",
    "analyzed_data=analyse_marked_data(path,types_and_roles_edited)\n",
    "\n",
    "#вывод итоговой таблицы\n",
    "analyzed_data"
   ]
  },
  {
   "cell_type": "markdown",
   "metadata": {},
   "source": [
    "## Пользователь выбирает параметры\n",
    "после этого должен быть шаг выбора параметров:\n",
    "опция 1: максимальный возможный уровень одобрения, при уровне риска не выше X% (уровень риска по одобренным или уровень риска по выданным - в зависимости от того, предоставлено ли поле NTU)\n",
    "опция 2: минимальный уровень риска, при уровне одобрения не ниже Y%"
   ]
  },
  {
   "cell_type": "code",
   "execution_count": null,
   "metadata": {
    "collapsed": true
   },
   "outputs": [],
   "source": [
    "#code"
   ]
  }
 ],
 "metadata": {
  "anaconda-cloud": {},
  "kernelspec": {
   "display_name": "Python 3",
   "language": "python",
   "name": "python3"
  },
  "language_info": {
   "codemirror_mode": {
    "name": "ipython",
    "version": 3
   },
   "file_extension": ".py",
   "mimetype": "text/x-python",
   "name": "python",
   "nbconvert_exporter": "python",
   "pygments_lexer": "ipython3",
   "version": "3.5.2"
  }
 },
 "nbformat": 4,
 "nbformat_minor": 2
}
