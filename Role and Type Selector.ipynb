{
 "cells": [
  {
   "cell_type": "code",
   "execution_count": 25,
   "metadata": {
    "collapsed": false
   },
   "outputs": [],
   "source": [
    "#написать демо файл с импортом и использованием модуля"
   ]
  },
  {
   "cell_type": "code",
   "execution_count": 26,
   "metadata": {
    "collapsed": false
   },
   "outputs": [],
   "source": [
    "%run datapy/analyze/preanalyse.py\n",
    "\n",
    "#путь к файлу\n",
    "path='C:\\\\Users\\\\Anton\\\\repository\\\\datapy\\\\data\\\\strategy_result.csv'\n",
    "#метод возвращает предположительны етипы и роли переменных\n",
    "types_and_roles=types_and_roles_prediction(path)"
   ]
  },
  {
   "cell_type": "markdown",
   "metadata": {},
   "source": [
    "## Пользователь первый раз загружает файл, мы делаем предикт"
   ]
  },
  {
   "cell_type": "code",
   "execution_count": 27,
   "metadata": {
    "collapsed": true
   },
   "outputs": [],
   "source": [
    "#путь к файлу\n",
    "path='C:\\\\Users\\\\Anton\\\\repository\\\\datapy\\\\data\\\\strategy_result.csv'\n",
    "types_and_roles=types_and_roles_prediction(path)"
   ]
  },
  {
   "cell_type": "markdown",
   "metadata": {},
   "source": [
    "## Пользователь вносит изменения в предложенные роли и типы и отпарвляет нам инфу"
   ]
  },
  {
   "cell_type": "code",
   "execution_count": 30,
   "metadata": {
    "collapsed": false
   },
   "outputs": [
    {
     "name": "stdout",
     "output_type": "stream",
     "text": [
      "1\n"
     ]
    }
   ],
   "source": [
    "%run datapy/analyze/analyze.py\n",
    "\n",
    "#подкорректированные пользователем типы (тут - ьез корректировки - заглушка)\n",
    "types_and_roles_edited=types_and_roles\n",
    "\n",
    "\n",
    "#Вызов метода анализа взависимости от правил\n",
    "analyse_marked_data(path,types_and_roles_edited)\n",
    "\n",
    "#Здесь выводим:\n",
    "'''историческая ситуация определяется переменными  FIXED RULE,  HISTORICAL RULE, NTU(опционально), TARGET, \n",
    "по этим данным надо посчитать число записей, уровень одобрения, уровень NTU(если есть), уровень риска по одобренным, \n",
    "уровень риска по выданным (если указано NTU) и  нужно отобразить однофакторные и уникальные отказы по исторической ситуации'''\n",
    "print(1)"
   ]
  },
  {
   "cell_type": "markdown",
   "metadata": {},
   "source": [
    "## Пользователь выбирает параметры\n",
    "после этого должен быть шаг выбора параметров:\n",
    "опция 1: максимальный возможный уровень одобрения, при уровне риска не выше X% (уровень риска по одобренным или уровень риска по выданным - в зависимости от того, предоставлено ли поле NTU)\n",
    "опция 2: минимальный уровень риска, при уровне одобрения не ниже Y%"
   ]
  },
  {
   "cell_type": "code",
   "execution_count": null,
   "metadata": {
    "collapsed": true
   },
   "outputs": [],
   "source": [
    "#code"
   ]
  }
 ],
 "metadata": {
  "anaconda-cloud": {},
  "kernelspec": {
   "display_name": "Python 2",
   "language": "python",
   "name": "python2"
  },
  "language_info": {
   "codemirror_mode": {
    "name": "ipython",
    "version": 2
   },
   "file_extension": ".py",
   "mimetype": "text/x-python",
   "name": "python",
   "nbconvert_exporter": "python",
   "pygments_lexer": "ipython2",
   "version": "2.7.13"
  }
 },
 "nbformat": 4,
 "nbformat_minor": 2
}
